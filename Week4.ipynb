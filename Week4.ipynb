{
 "cells": [
  {
   "cell_type": "markdown",
   "metadata": {
    "collapsed": true,
    "pycharm": {
     "name": "#%% md\n"
    }
   },
   "source": [
    "# Week 4"
   ]
  },
  {
   "cell_type": "markdown",
   "source": [
    "## Business Problem\n",
    "For my last project, I will focus on a problem about the price of houses. I found \n",
    "the dataset on kaggle. There are lots of factors that people are focusing on for buying a house. \n",
    "For example the type of the house, the location of the house, the size of\n",
    "the house and so on. All of these factors could have some impacts on the price\n",
    "of the house. My goal is to make this whole thing easier. I will try to find \n",
    "the relationship between the price of the house and the value of these factors."
   ],
   "metadata": {
    "collapsed": false,
    "pycharm": {
     "name": "#%% md\n",
     "is_executing": false
    }
   }
  },
  {
   "cell_type": "markdown",
   "source": [
    "## Discusstion\n",
    "As I mentioned above, there are too many factors could impact the price of the\n",
    "house. So at first we need to find if there are some factors are more important\n",
    "than others. Since there are too many features in a dataset, we may not use all\n",
    "of them as our features to predict the price of the house. After we clean the data,\n",
    "we could use those data to train our model. It's also important to select the \n",
    "appropriate model. Since the result of prediction is a number, linear regression could\n",
    "be a good choice. And we may use ridge regression to prevent overfitting. After \n",
    "determine what kinds of features we are goning to use and what model we will use,\n",
    "we could start our training."
   ],
   "metadata": {
    "collapsed": false,
    "pycharm": {
     "name": "#%% md\n",
     "is_executing": false
    }
   }
  },
  {
   "cell_type": "code",
   "execution_count": null,
   "outputs": [],
   "source": [
    "\n"
   ],
   "metadata": {
    "collapsed": false,
    "pycharm": {
     "name": "#%%\n"
    }
   }
  }
 ],
 "metadata": {
  "kernelspec": {
   "display_name": "Python 3",
   "language": "python",
   "name": "python3"
  },
  "language_info": {
   "codemirror_mode": {
    "name": "ipython",
    "version": 2
   },
   "file_extension": ".py",
   "mimetype": "text/x-python",
   "name": "python",
   "nbconvert_exporter": "python",
   "pygments_lexer": "ipython2",
   "version": "2.7.6"
  },
  "pycharm": {
   "stem_cell": {
    "cell_type": "raw",
    "source": [],
    "metadata": {
     "collapsed": false
    }
   }
  }
 },
 "nbformat": 4,
 "nbformat_minor": 0
}