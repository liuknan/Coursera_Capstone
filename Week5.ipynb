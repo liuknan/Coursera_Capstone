{
 "cells": [
  {
   "cell_type": "markdown",
   "metadata": {
    "collapsed": true,
    "pycharm": {
     "name": "#%% md\n"
    }
   },
   "source": [
    "# Week 5"
   ]
  },
  {
   "cell_type": "code",
   "execution_count": 4,
   "outputs": [],
   "source": [
    "import pandas as pd\n",
    "import numpy as np\n",
    "import json, requests\n",
    "url = 'https://api.foursquare.com/v2/venues/explore'\n",
    "\n",
    "params = dict(\n",
    "  client_id='BJIGOVMFAOKPTGWHXAJSXJ1NZNGGG0WJZCXCDITLZJZLVYZN',\n",
    "  client_secret='YRQQGFLUQ223KXD4EPUURYNVIABH3FUS23AXNUK41DUBWKFT',\n",
    "  v='20180323',\n",
    "  near='Bos',\n",
    "  section='food',\n",
    "  limit=50\n",
    ")\n",
    "id = list()\n",
    "resp = requests.get(url=url, params=params)\n",
    "data = json.loads(resp.text)\n",
    "data = data['response']['groups'][0]['items']\n",
    "for i in data:\n",
    "    id.append((i['venue']['name'],i['venue']['location']['lat'],i['venue']['location']['lng']))"
   ],
   "metadata": {
    "collapsed": false,
    "pycharm": {
     "name": "#%%\n",
     "is_executing": false
    }
   }
  },
  {
   "cell_type": "code",
   "execution_count": 8,
   "outputs": [
    {
     "data": {
      "text/plain": "                               name        lat       long\n0               Tatte Bakery & Cafe  42.357904 -71.070439\n1           Island Creek Oyster Bar  42.348838 -71.095280\n2                            Row 34  42.349570 -71.047215\n3                            Gre.Co  42.349920 -71.081633\n4                              Capo  42.336070 -71.047079\n5                            Lolita  42.350495 -71.051680\n6                     Brewer's Fork  42.376729 -71.056573\n7               Tatte Bakery & Cafe  42.353111 -71.057117\n8                        sweetgreen  42.349933 -71.078625\n9                          Yvonne's  42.355664 -71.061466\n10                  Regina Pizzeria  42.365394 -71.056883\n11                   Sam LaGrassa's  42.356870 -71.059960\n12                          Dig Inn  42.350423 -71.076088\n13                Flour Bakery+Cafe  42.346273 -71.084546\n14               The Capital Grille  42.347680 -71.085359\n15             James Hook & Company  42.354960 -71.050911\n16           Whole Heart Provisions  42.353745 -71.137189\n17              Tatte Bakery & Cafe  42.351667 -71.071715\n18                    Kane's Donuts  42.356209 -71.052895\n19               The Friendly Toast  42.348322 -71.073222\n20              Clover Food Lab FIN  42.353715 -71.056216\n21                           Locale  42.365055 -71.053271\n22             Fornax Bread Company  42.286171 -71.129760\n23                        Sorellina  42.348718 -71.077984\n24                              SRV  42.340871 -71.081622\n25                            Coppa  42.343462 -71.068567\n26              Earls Kitchen + Bar  42.347656 -71.082018\n27                       sweetgreen  42.353943 -71.058550\n28                   Lulu's Allston  42.355068 -71.134107\n29                   Mike & Patty's  42.348604 -71.067913\n30                        Chickadee  42.344448 -71.031220\n31              Flour Bakery & Cafe  42.351266 -71.048830\n32                  Toro Restaurant  42.337053 -71.076043\n33          Saltie Girl Seafood Bar  42.351111 -71.077811\n34                 Eastern Standard  42.348687 -71.096127\n35                            Picco  42.344780 -71.070467\n36                   Neptune Oyster  42.363237 -71.056139\n37                          Mistral  42.348017 -71.073102\n38                       Chilacates  42.316452 -71.103462\n39                      Blaze Pizza  42.344618 -71.097536\n40      Lolita Cocina & Tequila Bar  42.350563 -71.077544\n41              Flour Bakery & Cafe  42.338447 -71.074299\n42  Bricco Salumeria and Pasta Shop  42.363071 -71.055041\n43                 The Butcher Shop  42.344033 -71.071539\n44                           Stella  42.339736 -71.072574\n45                            Ostra  42.351060 -71.066976\n46                       sweetgreen  42.348488 -71.082398\n47              La Pizza & La Pasta  42.347787 -71.082444\n48                  Saus Restaurant  42.361076 -71.057054\n49                           Tenoch  42.363364 -71.051804",
      "text/html": "<div>\n<style scoped>\n    .dataframe tbody tr th:only-of-type {\n        vertical-align: middle;\n    }\n\n    .dataframe tbody tr th {\n        vertical-align: top;\n    }\n\n    .dataframe thead th {\n        text-align: right;\n    }\n</style>\n<table border=\"1\" class=\"dataframe\">\n  <thead>\n    <tr style=\"text-align: right;\">\n      <th></th>\n      <th>name</th>\n      <th>lat</th>\n      <th>long</th>\n    </tr>\n  </thead>\n  <tbody>\n    <tr>\n      <th>0</th>\n      <td>Tatte Bakery &amp; Cafe</td>\n      <td>42.357904</td>\n      <td>-71.070439</td>\n    </tr>\n    <tr>\n      <th>1</th>\n      <td>Island Creek Oyster Bar</td>\n      <td>42.348838</td>\n      <td>-71.095280</td>\n    </tr>\n    <tr>\n      <th>2</th>\n      <td>Row 34</td>\n      <td>42.349570</td>\n      <td>-71.047215</td>\n    </tr>\n    <tr>\n      <th>3</th>\n      <td>Gre.Co</td>\n      <td>42.349920</td>\n      <td>-71.081633</td>\n    </tr>\n    <tr>\n      <th>4</th>\n      <td>Capo</td>\n      <td>42.336070</td>\n      <td>-71.047079</td>\n    </tr>\n    <tr>\n      <th>5</th>\n      <td>Lolita</td>\n      <td>42.350495</td>\n      <td>-71.051680</td>\n    </tr>\n    <tr>\n      <th>6</th>\n      <td>Brewer's Fork</td>\n      <td>42.376729</td>\n      <td>-71.056573</td>\n    </tr>\n    <tr>\n      <th>7</th>\n      <td>Tatte Bakery &amp; Cafe</td>\n      <td>42.353111</td>\n      <td>-71.057117</td>\n    </tr>\n    <tr>\n      <th>8</th>\n      <td>sweetgreen</td>\n      <td>42.349933</td>\n      <td>-71.078625</td>\n    </tr>\n    <tr>\n      <th>9</th>\n      <td>Yvonne's</td>\n      <td>42.355664</td>\n      <td>-71.061466</td>\n    </tr>\n    <tr>\n      <th>10</th>\n      <td>Regina Pizzeria</td>\n      <td>42.365394</td>\n      <td>-71.056883</td>\n    </tr>\n    <tr>\n      <th>11</th>\n      <td>Sam LaGrassa's</td>\n      <td>42.356870</td>\n      <td>-71.059960</td>\n    </tr>\n    <tr>\n      <th>12</th>\n      <td>Dig Inn</td>\n      <td>42.350423</td>\n      <td>-71.076088</td>\n    </tr>\n    <tr>\n      <th>13</th>\n      <td>Flour Bakery+Cafe</td>\n      <td>42.346273</td>\n      <td>-71.084546</td>\n    </tr>\n    <tr>\n      <th>14</th>\n      <td>The Capital Grille</td>\n      <td>42.347680</td>\n      <td>-71.085359</td>\n    </tr>\n    <tr>\n      <th>15</th>\n      <td>James Hook &amp; Company</td>\n      <td>42.354960</td>\n      <td>-71.050911</td>\n    </tr>\n    <tr>\n      <th>16</th>\n      <td>Whole Heart Provisions</td>\n      <td>42.353745</td>\n      <td>-71.137189</td>\n    </tr>\n    <tr>\n      <th>17</th>\n      <td>Tatte Bakery &amp; Cafe</td>\n      <td>42.351667</td>\n      <td>-71.071715</td>\n    </tr>\n    <tr>\n      <th>18</th>\n      <td>Kane's Donuts</td>\n      <td>42.356209</td>\n      <td>-71.052895</td>\n    </tr>\n    <tr>\n      <th>19</th>\n      <td>The Friendly Toast</td>\n      <td>42.348322</td>\n      <td>-71.073222</td>\n    </tr>\n    <tr>\n      <th>20</th>\n      <td>Clover Food Lab FIN</td>\n      <td>42.353715</td>\n      <td>-71.056216</td>\n    </tr>\n    <tr>\n      <th>21</th>\n      <td>Locale</td>\n      <td>42.365055</td>\n      <td>-71.053271</td>\n    </tr>\n    <tr>\n      <th>22</th>\n      <td>Fornax Bread Company</td>\n      <td>42.286171</td>\n      <td>-71.129760</td>\n    </tr>\n    <tr>\n      <th>23</th>\n      <td>Sorellina</td>\n      <td>42.348718</td>\n      <td>-71.077984</td>\n    </tr>\n    <tr>\n      <th>24</th>\n      <td>SRV</td>\n      <td>42.340871</td>\n      <td>-71.081622</td>\n    </tr>\n    <tr>\n      <th>25</th>\n      <td>Coppa</td>\n      <td>42.343462</td>\n      <td>-71.068567</td>\n    </tr>\n    <tr>\n      <th>26</th>\n      <td>Earls Kitchen + Bar</td>\n      <td>42.347656</td>\n      <td>-71.082018</td>\n    </tr>\n    <tr>\n      <th>27</th>\n      <td>sweetgreen</td>\n      <td>42.353943</td>\n      <td>-71.058550</td>\n    </tr>\n    <tr>\n      <th>28</th>\n      <td>Lulu's Allston</td>\n      <td>42.355068</td>\n      <td>-71.134107</td>\n    </tr>\n    <tr>\n      <th>29</th>\n      <td>Mike &amp; Patty's</td>\n      <td>42.348604</td>\n      <td>-71.067913</td>\n    </tr>\n    <tr>\n      <th>30</th>\n      <td>Chickadee</td>\n      <td>42.344448</td>\n      <td>-71.031220</td>\n    </tr>\n    <tr>\n      <th>31</th>\n      <td>Flour Bakery &amp; Cafe</td>\n      <td>42.351266</td>\n      <td>-71.048830</td>\n    </tr>\n    <tr>\n      <th>32</th>\n      <td>Toro Restaurant</td>\n      <td>42.337053</td>\n      <td>-71.076043</td>\n    </tr>\n    <tr>\n      <th>33</th>\n      <td>Saltie Girl Seafood Bar</td>\n      <td>42.351111</td>\n      <td>-71.077811</td>\n    </tr>\n    <tr>\n      <th>34</th>\n      <td>Eastern Standard</td>\n      <td>42.348687</td>\n      <td>-71.096127</td>\n    </tr>\n    <tr>\n      <th>35</th>\n      <td>Picco</td>\n      <td>42.344780</td>\n      <td>-71.070467</td>\n    </tr>\n    <tr>\n      <th>36</th>\n      <td>Neptune Oyster</td>\n      <td>42.363237</td>\n      <td>-71.056139</td>\n    </tr>\n    <tr>\n      <th>37</th>\n      <td>Mistral</td>\n      <td>42.348017</td>\n      <td>-71.073102</td>\n    </tr>\n    <tr>\n      <th>38</th>\n      <td>Chilacates</td>\n      <td>42.316452</td>\n      <td>-71.103462</td>\n    </tr>\n    <tr>\n      <th>39</th>\n      <td>Blaze Pizza</td>\n      <td>42.344618</td>\n      <td>-71.097536</td>\n    </tr>\n    <tr>\n      <th>40</th>\n      <td>Lolita Cocina &amp; Tequila Bar</td>\n      <td>42.350563</td>\n      <td>-71.077544</td>\n    </tr>\n    <tr>\n      <th>41</th>\n      <td>Flour Bakery &amp; Cafe</td>\n      <td>42.338447</td>\n      <td>-71.074299</td>\n    </tr>\n    <tr>\n      <th>42</th>\n      <td>Bricco Salumeria and Pasta Shop</td>\n      <td>42.363071</td>\n      <td>-71.055041</td>\n    </tr>\n    <tr>\n      <th>43</th>\n      <td>The Butcher Shop</td>\n      <td>42.344033</td>\n      <td>-71.071539</td>\n    </tr>\n    <tr>\n      <th>44</th>\n      <td>Stella</td>\n      <td>42.339736</td>\n      <td>-71.072574</td>\n    </tr>\n    <tr>\n      <th>45</th>\n      <td>Ostra</td>\n      <td>42.351060</td>\n      <td>-71.066976</td>\n    </tr>\n    <tr>\n      <th>46</th>\n      <td>sweetgreen</td>\n      <td>42.348488</td>\n      <td>-71.082398</td>\n    </tr>\n    <tr>\n      <th>47</th>\n      <td>La Pizza &amp; La Pasta</td>\n      <td>42.347787</td>\n      <td>-71.082444</td>\n    </tr>\n    <tr>\n      <th>48</th>\n      <td>Saus Restaurant</td>\n      <td>42.361076</td>\n      <td>-71.057054</td>\n    </tr>\n    <tr>\n      <th>49</th>\n      <td>Tenoch</td>\n      <td>42.363364</td>\n      <td>-71.051804</td>\n    </tr>\n  </tbody>\n</table>\n</div>"
     },
     "metadata": {},
     "output_type": "execute_result",
     "execution_count": 8
    }
   ],
   "source": [
    "id = pd.DataFrame(id,columns=['name','lat','long'])\n",
    "id"
   ],
   "metadata": {
    "collapsed": false,
    "pycharm": {
     "name": "#%%\n",
     "is_executing": false
    }
   }
  },
  {
   "cell_type": "code",
   "source": [
    "import folium\n"
   ],
   "metadata": {
    "collapsed": false,
    "pycharm": {
     "name": "#%% \n",
     "is_executing": false
    }
   },
   "execution_count": 10,
   "outputs": []
  },
  {
   "cell_type": "code",
   "execution_count": 13,
   "outputs": [
    {
     "data": {
      "text/plain": "<folium.folium.Map at 0x111d38cc0>",
      "text/html": "<div style=\"width:100%;\"><div style=\"position:relative;width:100%;height:0;padding-bottom:60%;\"><iframe src=\"data:text/html;charset=utf-8;base64,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\" style=\"position:absolute;width:100%;height:100%;left:0;top:0;border:none !important;\" allowfullscreen webkitallowfullscreen mozallowfullscreen></iframe></div></div>"
     },
     "metadata": {},
     "output_type": "execute_result",
     "execution_count": 13
    }
   ],
   "source": [
    "venues_map = folium.Map(location=[42.34, -71.10], zoom_start=12)\n",
    "venues_map"
   ],
   "metadata": {
    "collapsed": false,
    "pycharm": {
     "name": "#%%\n",
     "is_executing": false
    }
   }
  },
  {
   "cell_type": "code",
   "execution_count": 15,
   "outputs": [],
   "source": [
    "for lat, lng, label in zip(id['lat'], id['long'], id['name']):\n",
    "        folium.features.Marker(\n",
    "            [lat, lng],\n",
    "            radius=5,\n",
    "            poup=label,\n",
    "            fill=True,\n",
    "            color='blue',\n",
    "            fill_color='blue',\n",
    "            fill_opacity=0.6\n",
    "        ).add_to(venues_map)"
   ],
   "metadata": {
    "collapsed": false,
    "pycharm": {
     "name": "#%%\n",
     "is_executing": false
    }
   }
  },
  {
   "cell_type": "code",
   "execution_count": 16,
   "outputs": [
    {
     "data": {
      "text/plain": "<folium.folium.Map at 0x111d38cc0>",
      "text/html": "<div style=\"width:100%;\"><div style=\"position:relative;width:100%;height:0;padding-bottom:60%;\"><iframe src=\"data:text/html;charset=utf-8;base64,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\" style=\"position:absolute;width:100%;height:100%;left:0;top:0;border:none !important;\" allowfullscreen webkitallowfullscreen mozallowfullscreen></iframe></div></div>"
     },
     "metadata": {},
     "output_type": "execute_result",
     "execution_count": 16
    }
   ],
   "source": [
    "venues_map"
   ],
   "metadata": {
    "collapsed": false,
    "pycharm": {
     "name": "#%%\n",
     "is_executing": false
    }
   }
  },
  {
   "cell_type": "markdown",
   "source": [
    "So we find the biggest group is at Back Bay Area."
   ],
   "metadata": {
    "collapsed": false,
    "pycharm": {
     "name": "#%% md\n",
     "is_executing": false
    }
   }
  },
  {
   "cell_type": "code",
   "execution_count": 6,
   "outputs": [],
   "source": [
    "url = 'https://api.foursquare.com/v2/venues/explore'\n",
    "\n",
    "params = dict(\n",
    "  client_id='BJIGOVMFAOKPTGWHXAJSXJ1NZNGGG0WJZCXCDITLZJZLVYZN',\n",
    "  client_secret='YRQQGFLUQ223KXD4EPUURYNVIABH3FUS23AXNUK41DUBWKFT',\n",
    "  v='20180323',\n",
    "  ll ='42.34,-71.09',\n",
    "  section='food',\n",
    "  limit=20\n",
    ")\n",
    "cat = list()\n",
    "resp = requests.get(url=url, params=params)\n",
    "data = json.loads(resp.text)\n",
    "data = data['response']['groups'][0]['items']\n",
    "for j in data:\n",
    "    cat.append((j['venue']['name'],j['venue']['categories'][0]['name']))\n"
   ],
   "metadata": {
    "collapsed": false,
    "pycharm": {
     "name": "#%%\n",
     "is_executing": false
    }
   }
  },
  {
   "cell_type": "code",
   "execution_count": 7,
   "outputs": [
    {
     "data": {
      "text/plain": "                         Name                 Categories\n0               Chicken Lou's             Sandwich Place\n1             Boston Shawarma  Middle Eastern Restaurant\n2       Tatte Bakery and Cafe                     Bakery\n3           Amelia's Taqueria              Burrito Place\n4              Rebecca's Cafe                       Café\n5              Symphony Sushi           Sushi Restaurant\n6                Kigo Kitchen           Asian Restaurant\n7   University House of Pizza                Pizza Place\n8                   Moby Dick  Middle Eastern Restaurant\n9                     Dunkin'                 Donut Shop\n10                 Caffé Bene                       Café\n11                 Thaitation            Thai Restaurant\n12        Woody's Grill & Tap                Pizza Place\n13                        SRV         Italian Restaurant\n14                  Pho Basil      Vietnamese Restaurant\n15        Lucy Ethiopian Cafe       Ethiopian Restaurant\n16                  Five Guys               Burger Joint\n17        Farmer Horse Coffee                       Café\n18                Blaze Pizza                Pizza Place\n19          Flour Bakery+Cafe                     Bakery",
      "text/html": "<div>\n<style scoped>\n    .dataframe tbody tr th:only-of-type {\n        vertical-align: middle;\n    }\n\n    .dataframe tbody tr th {\n        vertical-align: top;\n    }\n\n    .dataframe thead th {\n        text-align: right;\n    }\n</style>\n<table border=\"1\" class=\"dataframe\">\n  <thead>\n    <tr style=\"text-align: right;\">\n      <th></th>\n      <th>Name</th>\n      <th>Categories</th>\n    </tr>\n  </thead>\n  <tbody>\n    <tr>\n      <th>0</th>\n      <td>Chicken Lou's</td>\n      <td>Sandwich Place</td>\n    </tr>\n    <tr>\n      <th>1</th>\n      <td>Boston Shawarma</td>\n      <td>Middle Eastern Restaurant</td>\n    </tr>\n    <tr>\n      <th>2</th>\n      <td>Tatte Bakery and Cafe</td>\n      <td>Bakery</td>\n    </tr>\n    <tr>\n      <th>3</th>\n      <td>Amelia's Taqueria</td>\n      <td>Burrito Place</td>\n    </tr>\n    <tr>\n      <th>4</th>\n      <td>Rebecca's Cafe</td>\n      <td>Café</td>\n    </tr>\n    <tr>\n      <th>5</th>\n      <td>Symphony Sushi</td>\n      <td>Sushi Restaurant</td>\n    </tr>\n    <tr>\n      <th>6</th>\n      <td>Kigo Kitchen</td>\n      <td>Asian Restaurant</td>\n    </tr>\n    <tr>\n      <th>7</th>\n      <td>University House of Pizza</td>\n      <td>Pizza Place</td>\n    </tr>\n    <tr>\n      <th>8</th>\n      <td>Moby Dick</td>\n      <td>Middle Eastern Restaurant</td>\n    </tr>\n    <tr>\n      <th>9</th>\n      <td>Dunkin'</td>\n      <td>Donut Shop</td>\n    </tr>\n    <tr>\n      <th>10</th>\n      <td>Caffé Bene</td>\n      <td>Café</td>\n    </tr>\n    <tr>\n      <th>11</th>\n      <td>Thaitation</td>\n      <td>Thai Restaurant</td>\n    </tr>\n    <tr>\n      <th>12</th>\n      <td>Woody's Grill &amp; Tap</td>\n      <td>Pizza Place</td>\n    </tr>\n    <tr>\n      <th>13</th>\n      <td>SRV</td>\n      <td>Italian Restaurant</td>\n    </tr>\n    <tr>\n      <th>14</th>\n      <td>Pho Basil</td>\n      <td>Vietnamese Restaurant</td>\n    </tr>\n    <tr>\n      <th>15</th>\n      <td>Lucy Ethiopian Cafe</td>\n      <td>Ethiopian Restaurant</td>\n    </tr>\n    <tr>\n      <th>16</th>\n      <td>Five Guys</td>\n      <td>Burger Joint</td>\n    </tr>\n    <tr>\n      <th>17</th>\n      <td>Farmer Horse Coffee</td>\n      <td>Café</td>\n    </tr>\n    <tr>\n      <th>18</th>\n      <td>Blaze Pizza</td>\n      <td>Pizza Place</td>\n    </tr>\n    <tr>\n      <th>19</th>\n      <td>Flour Bakery+Cafe</td>\n      <td>Bakery</td>\n    </tr>\n  </tbody>\n</table>\n</div>"
     },
     "metadata": {},
     "output_type": "execute_result",
     "execution_count": 7
    }
   ],
   "source": [
    "cat = pd.DataFrame(cat,columns=['Name','Categories'])\n",
    "cat"
   ],
   "metadata": {
    "collapsed": false,
    "pycharm": {
     "name": "#%%\n",
     "is_executing": false
    }
   }
  },
  {
   "cell_type": "markdown",
   "source": [
    "As we could see, the Back Bay Area is the most popular place for restaurants\n",
    "at Boston Area. On various websites, we could easily find that Back Bay is \n",
    "famous and lots of tourists would like for shopping and having brunch. Therefore,\n",
    "it's a great place for opening a new restaurant.\n",
    "Besides, we also find a list for categories about restaurants at Back Bay. \n",
    "For 20 recommended food places, 7 of them are Fast Food, 6 of them are Café & Bakery,\n",
    "4 or them are Asian Food, so if somebody want to open a restaurant there, he/she\n",
    "may pick 1 category from these 3, since they are very popular their. \n"
   ],
   "metadata": {
    "collapsed": false,
    "pycharm": {
     "name": "#%% md\n"
    }
   }
  }
 ],
 "metadata": {
  "kernelspec": {
   "display_name": "Python 3",
   "language": "python",
   "name": "python3"
  },
  "language_info": {
   "codemirror_mode": {
    "name": "ipython",
    "version": 2
   },
   "file_extension": ".py",
   "mimetype": "text/x-python",
   "name": "python",
   "nbconvert_exporter": "python",
   "pygments_lexer": "ipython2",
   "version": "2.7.6"
  },
  "pycharm": {
   "stem_cell": {
    "cell_type": "raw",
    "source": [],
    "metadata": {
     "collapsed": false
    }
   }
  }
 },
 "nbformat": 4,
 "nbformat_minor": 0
}